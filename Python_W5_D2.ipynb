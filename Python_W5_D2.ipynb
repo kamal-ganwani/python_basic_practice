{
  "nbformat": 4,
  "nbformat_minor": 0,
  "metadata": {
    "colab": {
      "provenance": [],
      "include_colab_link": true
    },
    "kernelspec": {
      "name": "python3",
      "display_name": "Python 3"
    },
    "language_info": {
      "name": "python"
    }
  },
  "cells": [
    {
      "cell_type": "markdown",
      "metadata": {
        "id": "view-in-github",
        "colab_type": "text"
      },
      "source": [
        "<a href=\"https://colab.research.google.com/github/kamal-ganwani/python_basic_practice/blob/main/Python_W5_D2.ipynb\" target=\"_parent\"><img src=\"https://colab.research.google.com/assets/colab-badge.svg\" alt=\"Open In Colab\"/></a>"
      ]
    },
    {
      "cell_type": "code",
      "execution_count": null,
      "metadata": {
        "id": "u2eQpUWhLWWR"
      },
      "outputs": [],
      "source": [
        "a=5"
      ]
    },
    {
      "cell_type": "code",
      "source": [
        "print(type(a))"
      ],
      "metadata": {
        "colab": {
          "base_uri": "https://localhost:8080/"
        },
        "id": "BvBbmunIYlUW",
        "outputId": "bbe6d66f-b7e4-49f9-e823-79c13087344a"
      },
      "execution_count": null,
      "outputs": [
        {
          "output_type": "stream",
          "name": "stdout",
          "text": [
            "<class 'int'>\n"
          ]
        }
      ]
    },
    {
      "cell_type": "code",
      "source": [
        "x=[1,2,3]\n",
        "print(type(x))"
      ],
      "metadata": {
        "colab": {
          "base_uri": "https://localhost:8080/"
        },
        "id": "C8K7QgBLYuzd",
        "outputId": "ea91817e-f29a-4a4d-daab-ee435e44c823"
      },
      "execution_count": null,
      "outputs": [
        {
          "output_type": "stream",
          "name": "stdout",
          "text": [
            "<class 'list'>\n"
          ]
        }
      ]
    },
    {
      "cell_type": "code",
      "source": [
        "class AxisBank:\n",
        "  #Code Block\n",
        "  pass"
      ],
      "metadata": {
        "id": "glMkJUriZAcL"
      },
      "execution_count": null,
      "outputs": []
    },
    {
      "cell_type": "code",
      "source": [
        "customer1=AxisBank()\n",
        "customer2=AxisBank()"
      ],
      "metadata": {
        "id": "vHfrAhD-abdr"
      },
      "execution_count": null,
      "outputs": []
    },
    {
      "cell_type": "code",
      "source": [
        "customer1"
      ],
      "metadata": {
        "colab": {
          "base_uri": "https://localhost:8080/"
        },
        "id": "OYHxG3IybUBB",
        "outputId": "26e9a5c9-4fc6-4317-8fdd-5ef320b12e97"
      },
      "execution_count": null,
      "outputs": [
        {
          "output_type": "execute_result",
          "data": {
            "text/plain": [
              "<__main__.AxisBank at 0x7e744bf26b30>"
            ]
          },
          "metadata": {},
          "execution_count": 9
        }
      ]
    },
    {
      "cell_type": "code",
      "source": [
        "class AxisBank: #ClassName\n",
        "  def identity(self,name): #MethodName\n",
        "    print(f'{name} is a Customer of AxisBank')"
      ],
      "metadata": {
        "id": "90b9n2oTbV8J"
      },
      "execution_count": null,
      "outputs": []
    },
    {
      "cell_type": "code",
      "source": [
        "customer1=AxisBank()"
      ],
      "metadata": {
        "id": "VAKjqxNab7dX"
      },
      "execution_count": null,
      "outputs": []
    },
    {
      "cell_type": "code",
      "source": [
        "customer1.identity('Virat')  #-->Batch.identity(customer1,'Virat) #Self-->FutureObject"
      ],
      "metadata": {
        "colab": {
          "base_uri": "https://localhost:8080/"
        },
        "id": "Y9S9bio6chfw",
        "outputId": "e4259e37-c733-4844-9bef-cebca87e89eb"
      },
      "execution_count": null,
      "outputs": [
        {
          "output_type": "stream",
          "name": "stdout",
          "text": [
            "Virat is a Customer of AxisBank\n"
          ]
        }
      ]
    },
    {
      "cell_type": "code",
      "source": [
        "customer2=AxisBank()"
      ],
      "metadata": {
        "id": "lUKypDp8cvH_"
      },
      "execution_count": null,
      "outputs": []
    },
    {
      "cell_type": "code",
      "source": [
        "customer2.identity('Sachin')"
      ],
      "metadata": {
        "colab": {
          "base_uri": "https://localhost:8080/"
        },
        "id": "lRpkHHo3d_u4",
        "outputId": "edb80445-58f4-4166-90d4-80112dd131ae"
      },
      "execution_count": null,
      "outputs": [
        {
          "output_type": "stream",
          "name": "stdout",
          "text": [
            "Sachin is a Customer of AxisBank\n"
          ]
        }
      ]
    },
    {
      "cell_type": "code",
      "source": [
        "print(customer1)"
      ],
      "metadata": {
        "colab": {
          "base_uri": "https://localhost:8080/"
        },
        "id": "WMBbOtfkeEE4",
        "outputId": "f9939fac-a81d-4764-e15c-058a11e8b8b7"
      },
      "execution_count": null,
      "outputs": [
        {
          "output_type": "stream",
          "name": "stdout",
          "text": [
            "<__main__.AxisBank object at 0x7e744bf26c20>\n"
          ]
        }
      ]
    },
    {
      "cell_type": "code",
      "source": [
        "class AxisBank: #class\n",
        "  def identity(self,name): #Method\n",
        "    self.name=name #attribute"
      ],
      "metadata": {
        "id": "y75jGvdbeZlw"
      },
      "execution_count": null,
      "outputs": []
    },
    {
      "cell_type": "code",
      "source": [
        "customer1=AxisBank()\n",
        "customer1.identity('Rohit Sharma') #-->Batch.identity(customer1,'Rohit Sharma')"
      ],
      "metadata": {
        "id": "UppzsnNee6pQ"
      },
      "execution_count": null,
      "outputs": []
    },
    {
      "cell_type": "code",
      "source": [
        "customer2=AxisBank()\n",
        "customer2.identity('Virat kohli')"
      ],
      "metadata": {
        "id": "nYxevIdZfGyU"
      },
      "execution_count": null,
      "outputs": []
    },
    {
      "cell_type": "code",
      "source": [
        "customer1.name"
      ],
      "metadata": {
        "colab": {
          "base_uri": "https://localhost:8080/",
          "height": 36
        },
        "id": "biKROH0ufPCc",
        "outputId": "3f394bad-e440-4590-d6b4-63ecd3f02e2b"
      },
      "execution_count": null,
      "outputs": [
        {
          "output_type": "execute_result",
          "data": {
            "text/plain": [
              "'Rohit Sharma'"
            ],
            "application/vnd.google.colaboratory.intrinsic+json": {
              "type": "string"
            }
          },
          "metadata": {},
          "execution_count": 20
        }
      ]
    },
    {
      "cell_type": "code",
      "source": [
        "customer2.name"
      ],
      "metadata": {
        "colab": {
          "base_uri": "https://localhost:8080/",
          "height": 36
        },
        "id": "SZ4YSYtyfYKj",
        "outputId": "ad53c11d-a62a-4c4a-b803-2900245689c6"
      },
      "execution_count": null,
      "outputs": [
        {
          "output_type": "execute_result",
          "data": {
            "text/plain": [
              "'Virat kohli'"
            ],
            "application/vnd.google.colaboratory.intrinsic+json": {
              "type": "string"
            }
          },
          "metadata": {},
          "execution_count": 21
        }
      ]
    },
    {
      "cell_type": "code",
      "source": [
        "class AxisBank:\n",
        "  def set_name(self,name):\n",
        "    self.name=name\n",
        "\n",
        "  def set_age(self,age):\n",
        "    self.age=age"
      ],
      "metadata": {
        "id": "BgT7Cs3HfrpN"
      },
      "execution_count": null,
      "outputs": []
    },
    {
      "cell_type": "code",
      "source": [
        "c1=AxisBank()\n",
        "c2=AxisBank()"
      ],
      "metadata": {
        "id": "KxGNPcMEgkza"
      },
      "execution_count": null,
      "outputs": []
    },
    {
      "cell_type": "code",
      "source": [
        "c1.set_name('Sachin')\n",
        "c1.set_age(44)\n",
        "\n",
        "c2.set_name('Virat')\n",
        "c2.set_age(34)"
      ],
      "metadata": {
        "id": "dQ8TDLqVgqT6"
      },
      "execution_count": null,
      "outputs": []
    },
    {
      "cell_type": "code",
      "source": [
        "c1.name"
      ],
      "metadata": {
        "colab": {
          "base_uri": "https://localhost:8080/",
          "height": 36
        },
        "id": "B34wwvIjgzhR",
        "outputId": "6f50b2a6-9e12-4175-f3ba-114b368b4771"
      },
      "execution_count": null,
      "outputs": [
        {
          "output_type": "execute_result",
          "data": {
            "text/plain": [
              "'Sachin'"
            ],
            "application/vnd.google.colaboratory.intrinsic+json": {
              "type": "string"
            }
          },
          "metadata": {},
          "execution_count": 30
        }
      ]
    },
    {
      "cell_type": "code",
      "source": [
        "c1.age"
      ],
      "metadata": {
        "colab": {
          "base_uri": "https://localhost:8080/"
        },
        "id": "QQ1LsUDcg19p",
        "outputId": "03dc2a2e-6945-43d5-f88a-968bebfeea19"
      },
      "execution_count": null,
      "outputs": [
        {
          "output_type": "execute_result",
          "data": {
            "text/plain": [
              "44"
            ]
          },
          "metadata": {},
          "execution_count": 31
        }
      ]
    },
    {
      "cell_type": "code",
      "source": [
        "class AxisBank:\n",
        "  def set_info(self,name,age):\n",
        "    self.name=name #'Dhoni'\n",
        "    self.age=age #40\n",
        "\n",
        "a=AxisBank()\n",
        "b=AxisBank()\n",
        "c=AxisBank()\n",
        "d=AxisBank()\n",
        "\n",
        "a.set_info('Dhoni',40)\n",
        "b.set_info('Saurav',50)\n",
        "c.set_info('Virat',34)\n",
        "d.set_info('Rohit',33)"
      ],
      "metadata": {
        "id": "KzL_aUUhg4ZQ"
      },
      "execution_count": null,
      "outputs": []
    },
    {
      "cell_type": "code",
      "source": [
        "print(f'Hello Welcome to indian Team {a.name},{b.name},{c.name} and {d.name}')\n",
        "print(f'Hello Welcome to indian Team {a.age},{b.age},{c.age} and {d.age}')"
      ],
      "metadata": {
        "colab": {
          "base_uri": "https://localhost:8080/"
        },
        "id": "9BxNXSE4kxuG",
        "outputId": "19648840-f395-47a8-fcd9-b7a6beb2c3a7"
      },
      "execution_count": null,
      "outputs": [
        {
          "output_type": "stream",
          "name": "stdout",
          "text": [
            "Hello Welcome to indian Team Dhoni,Saurav,Virat and Rohit\n",
            "Hello Welcome to indian Team 40,50,34 and 33\n"
          ]
        }
      ]
    },
    {
      "cell_type": "code",
      "source": [
        "class AxisBank:\n",
        "  def __init__(self):\n",
        "    pass\n",
        "\n"
      ],
      "metadata": {
        "id": "B6uMZJkZlNKn"
      },
      "execution_count": null,
      "outputs": []
    },
    {
      "cell_type": "code",
      "source": [
        "c1=AxisBank()\n",
        "c2=AxisBank()"
      ],
      "metadata": {
        "id": "BHq3ukttqH-_"
      },
      "execution_count": null,
      "outputs": []
    },
    {
      "cell_type": "code",
      "source": [
        "c1.name,c1.age"
      ],
      "metadata": {
        "colab": {
          "base_uri": "https://localhost:8080/"
        },
        "id": "ASSET2TNqU2m",
        "outputId": "e72f36e3-af3f-4ac7-99f0-538cab705aa2"
      },
      "execution_count": null,
      "outputs": [
        {
          "output_type": "execute_result",
          "data": {
            "text/plain": [
              "('Virat', 34)"
            ]
          },
          "metadata": {},
          "execution_count": 66
        }
      ]
    },
    {
      "cell_type": "code",
      "source": [
        "c2.name,c2.age"
      ],
      "metadata": {
        "colab": {
          "base_uri": "https://localhost:8080/"
        },
        "id": "w181bD8Cqhll",
        "outputId": "96d7e362-334d-42c0-d58f-79005658db4b"
      },
      "execution_count": null,
      "outputs": [
        {
          "output_type": "execute_result",
          "data": {
            "text/plain": [
              "('Sachin', 44)"
            ]
          },
          "metadata": {},
          "execution_count": 67
        }
      ]
    },
    {
      "cell_type": "code",
      "source": [
        "class AxisBank:\n",
        "\n",
        "  def __init__(self):\n",
        "    print(self)\n",
        "\n",
        "  def set_info(self,name,age):\n",
        "    self.name=name #'Dhoni'\n",
        "    self.age=age #40\n",
        "\n",
        "a=AxisBank()\n",
        "b=AxisBank()\n",
        "c=AxisBank()\n",
        "d=AxisBank()\n",
        "\n",
        "a.set_info('Dhoni',40)\n",
        "b.set_info('Saurav',50)\n",
        "c.set_info('Virat',34)\n",
        "d.set_info('Rohit',33)"
      ],
      "metadata": {
        "colab": {
          "base_uri": "https://localhost:8080/"
        },
        "id": "1yQ35LJxqi2o",
        "outputId": "7ce567bf-573e-4491-d660-bac914b85f59"
      },
      "execution_count": null,
      "outputs": [
        {
          "output_type": "stream",
          "name": "stdout",
          "text": [
            "<__main__.AxisBank object at 0x7e744bf25b40>\n",
            "<__main__.AxisBank object at 0x7e744bf277f0>\n",
            "<__main__.AxisBank object at 0x7e744bf26380>\n",
            "<__main__.AxisBank object at 0x7e744bf27430>\n"
          ]
        }
      ]
    },
    {
      "cell_type": "code",
      "source": [
        "print(f'Hello Welcome to indian Team {a.name},{b.name},{c.name} and {d.name}')\n",
        "print(f'Hello Welcome to indian Team {a.age},{b.age},{c.age} and {d.age}')"
      ],
      "metadata": {
        "colab": {
          "base_uri": "https://localhost:8080/"
        },
        "id": "sGK0giK_rl90",
        "outputId": "5f88890b-415e-4d47-be15-3f8080902088"
      },
      "execution_count": null,
      "outputs": [
        {
          "output_type": "stream",
          "name": "stdout",
          "text": [
            "Hello Welcome to indian Team Dhoni,Saurav,Virat and Rohit\n",
            "Hello Welcome to indian Team 40,50,34 and 33\n"
          ]
        }
      ]
    },
    {
      "cell_type": "code",
      "source": [
        "class AxisBank:\n",
        "  def __init__(self,name,age):\n",
        "    self.name=name\n",
        "    self.age=age\n",
        "\n",
        "s1=AxisBank('Virat',34)\n",
        "s1.name,s1.age"
      ],
      "metadata": {
        "colab": {
          "base_uri": "https://localhost:8080/"
        },
        "id": "BYERGPtjroPt",
        "outputId": "bc9e2eb8-c7e3-46ee-8dba-ad704acc0b69"
      },
      "execution_count": null,
      "outputs": [
        {
          "output_type": "execute_result",
          "data": {
            "text/plain": [
              "('Virat', 34)"
            ]
          },
          "metadata": {},
          "execution_count": 88
        }
      ]
    },
    {
      "cell_type": "code",
      "source": [
        "class AxisBank:\n",
        "  def set_info(self,name,age):\n",
        "    self.name=name\n",
        "    self.age=age\n",
        "\n",
        "s1=AxisBank()\n",
        "s1.set_info('Virat',34)\n",
        "s1.name,s1.age"
      ],
      "metadata": {
        "colab": {
          "base_uri": "https://localhost:8080/"
        },
        "id": "pwSy-RB1sm4O",
        "outputId": "15a5d294-9b20-4e0f-ae88-77c7c50f0039"
      },
      "execution_count": null,
      "outputs": [
        {
          "output_type": "execute_result",
          "data": {
            "text/plain": [
              "('Virat', 34)"
            ]
          },
          "metadata": {},
          "execution_count": 89
        }
      ]
    },
    {
      "cell_type": "code",
      "source": [
        "class AxisBank:\n",
        "  def __init__(self,name,age):\n",
        "    self.name=name\n",
        "    self.age=age\n",
        "\n",
        "  def __str__(self):\n",
        "    return f'Account Holder Name:{self.name} and Account Holder Age: {self.age}'\n",
        "\n",
        "s1=AxisBank('Virat',34)\n",
        "s2=AxisBank('Rohit',33)\n",
        "s3=AxisBank('Dhoni',40)\n",
        "s4=AxisBank('Sachin',44)"
      ],
      "metadata": {
        "id": "ExKn3Gd_tE76"
      },
      "execution_count": null,
      "outputs": []
    },
    {
      "cell_type": "code",
      "source": [
        "print(s1)"
      ],
      "metadata": {
        "colab": {
          "base_uri": "https://localhost:8080/"
        },
        "id": "FJOJCeg-tUNZ",
        "outputId": "c91c6d94-4ea7-467c-f438-0f4388a6a3c1"
      },
      "execution_count": null,
      "outputs": [
        {
          "output_type": "stream",
          "name": "stdout",
          "text": [
            "Account Holder Name:Virat and Account Holder Age: 34\n"
          ]
        }
      ]
    },
    {
      "cell_type": "code",
      "source": [
        "print(s2)"
      ],
      "metadata": {
        "colab": {
          "base_uri": "https://localhost:8080/"
        },
        "id": "T95paFVRtVIT",
        "outputId": "31757eb0-3f52-49c9-8ef8-fc796282c13f"
      },
      "execution_count": null,
      "outputs": [
        {
          "output_type": "stream",
          "name": "stdout",
          "text": [
            "Account Holder Name:Rohit and Account Holder Age: 33\n"
          ]
        }
      ]
    },
    {
      "cell_type": "code",
      "source": [
        "print(s3)"
      ],
      "metadata": {
        "colab": {
          "base_uri": "https://localhost:8080/"
        },
        "id": "2wgm3ik1uaNK",
        "outputId": "e543d88d-4b10-4f2a-ad2d-7760ae085832"
      },
      "execution_count": null,
      "outputs": [
        {
          "output_type": "stream",
          "name": "stdout",
          "text": [
            "Account Holder Name:Dhoni and Account Holder Age: 40\n"
          ]
        }
      ]
    },
    {
      "cell_type": "code",
      "source": [
        "import random\n",
        "\n",
        "class AxisBank:\n",
        "  def __init__(self,name,age):\n",
        "    self.name=name\n",
        "    self.age=age\n",
        "\n",
        "    self.ACNO=random.randint(100,10000)\n",
        "    self.currentBalance=1000\n",
        "    self.password=1234\n",
        "\n",
        "  def __str__(self):\n",
        "    return f'Account Holder Name: {self.name}, and Account Holder Age: {self.age}'\n",
        "\n",
        "  def getACNO(self):\n",
        "    return self.ACNO\n",
        "\n",
        "  def getCurrentBalance(self):\n",
        "    return self.currentBalance\n",
        "\n",
        "  def setCreditBalance(self,amount):\n",
        "    self.currentBalance=self.currentBalance + amount\n",
        "\n",
        "  def setDebitBalance(self,amount):\n",
        "    self.currentBalance=self.currentBalance-amount"
      ],
      "metadata": {
        "id": "IuBlVrWYuc3t"
      },
      "execution_count": null,
      "outputs": []
    },
    {
      "cell_type": "code",
      "source": [
        "x=AxisBank('Virat',34)"
      ],
      "metadata": {
        "id": "ttENe2dov3UP"
      },
      "execution_count": null,
      "outputs": []
    },
    {
      "cell_type": "code",
      "source": [
        "print(x)"
      ],
      "metadata": {
        "colab": {
          "base_uri": "https://localhost:8080/"
        },
        "id": "kAt0tWdzwimR",
        "outputId": "1bc6fc6e-9800-4151-a04e-18201db19e72"
      },
      "execution_count": null,
      "outputs": [
        {
          "output_type": "stream",
          "name": "stdout",
          "text": [
            "Account Holder Name: Virat, and Account Holder Age: 34\n"
          ]
        }
      ]
    },
    {
      "cell_type": "code",
      "source": [
        "x.getCurrentBalance()"
      ],
      "metadata": {
        "colab": {
          "base_uri": "https://localhost:8080/"
        },
        "id": "3oNEL-Jxxoil",
        "outputId": "b4c3de1a-754d-4382-8324-f5b249eb48bd"
      },
      "execution_count": null,
      "outputs": [
        {
          "output_type": "execute_result",
          "data": {
            "text/plain": [
              "1000"
            ]
          },
          "metadata": {},
          "execution_count": 115
        }
      ]
    },
    {
      "cell_type": "code",
      "source": [
        "x.setCreditBalance(5000)"
      ],
      "metadata": {
        "id": "lUyiT6NaxtQu"
      },
      "execution_count": null,
      "outputs": []
    },
    {
      "cell_type": "code",
      "source": [
        "x.getCurrentBalance()"
      ],
      "metadata": {
        "colab": {
          "base_uri": "https://localhost:8080/"
        },
        "id": "LxzXOI-5xzWs",
        "outputId": "093fbe4c-f124-4bbc-b9aa-7bc7e78315be"
      },
      "execution_count": null,
      "outputs": [
        {
          "output_type": "execute_result",
          "data": {
            "text/plain": [
              "6000"
            ]
          },
          "metadata": {},
          "execution_count": 117
        }
      ]
    },
    {
      "cell_type": "code",
      "source": [
        "x.setDebitBalance(2000)"
      ],
      "metadata": {
        "id": "sLIOZ-VEx2UU"
      },
      "execution_count": null,
      "outputs": []
    },
    {
      "cell_type": "code",
      "source": [
        "x.getCurrentBalance()"
      ],
      "metadata": {
        "colab": {
          "base_uri": "https://localhost:8080/"
        },
        "id": "p_qVQ6tpx9dU",
        "outputId": "88a6e549-25fd-4ab5-c891-12fc10538a67"
      },
      "execution_count": null,
      "outputs": [
        {
          "output_type": "execute_result",
          "data": {
            "text/plain": [
              "4000"
            ]
          },
          "metadata": {},
          "execution_count": 119
        }
      ]
    },
    {
      "cell_type": "code",
      "source": [
        "y=AxisBank('Sachin',44)"
      ],
      "metadata": {
        "id": "ijY0kOoKx_AV"
      },
      "execution_count": null,
      "outputs": []
    },
    {
      "cell_type": "code",
      "source": [
        "print(y)"
      ],
      "metadata": {
        "colab": {
          "base_uri": "https://localhost:8080/"
        },
        "id": "eCYZ3bsuyGRl",
        "outputId": "c4b7ebb4-4244-45d8-8afb-2a43b03d6fbc"
      },
      "execution_count": null,
      "outputs": [
        {
          "output_type": "stream",
          "name": "stdout",
          "text": [
            "Account Holder Name: Sachin, and Account Holder Age: 44\n"
          ]
        }
      ]
    },
    {
      "cell_type": "code",
      "source": [
        "y.getCurrentBalance()"
      ],
      "metadata": {
        "colab": {
          "base_uri": "https://localhost:8080/"
        },
        "id": "hN1-sXozyHb0",
        "outputId": "d05c338c-7f95-40d8-e045-dce27749dc4e"
      },
      "execution_count": null,
      "outputs": [
        {
          "output_type": "execute_result",
          "data": {
            "text/plain": [
              "1000"
            ]
          },
          "metadata": {},
          "execution_count": 122
        }
      ]
    },
    {
      "cell_type": "code",
      "source": [
        "y.password"
      ],
      "metadata": {
        "colab": {
          "base_uri": "https://localhost:8080/"
        },
        "id": "vkye06M7yJ9E",
        "outputId": "74efb2ff-b09d-4e63-c8d9-a2e4d6a36ee9"
      },
      "execution_count": null,
      "outputs": [
        {
          "output_type": "execute_result",
          "data": {
            "text/plain": [
              "1234"
            ]
          },
          "metadata": {},
          "execution_count": 123
        }
      ]
    },
    {
      "cell_type": "code",
      "source": [
        "class Animal:\n",
        "  def speak(self):\n",
        "    print('Animal Speak')\n",
        "\n",
        "class Dog(Animal):\n",
        "  def bark(self):\n",
        "    print('Dog Barks')\n",
        "\n",
        "class puppy(Animal):\n",
        "  def play(self):\n",
        "    print('Woof Woof')"
      ],
      "metadata": {
        "id": "ls8oGp09yPqL"
      },
      "execution_count": null,
      "outputs": []
    },
    {
      "cell_type": "code",
      "source": [
        "p=puppy()"
      ],
      "metadata": {
        "id": "ehOpMBwcztaJ"
      },
      "execution_count": null,
      "outputs": []
    },
    {
      "cell_type": "code",
      "source": [
        "p.play()"
      ],
      "metadata": {
        "colab": {
          "base_uri": "https://localhost:8080/"
        },
        "id": "pqW3C2Yiz0va",
        "outputId": "3892ab44-8e21-4c39-e4a4-4fabf49d36bd"
      },
      "execution_count": null,
      "outputs": [
        {
          "output_type": "stream",
          "name": "stdout",
          "text": [
            "Woof Woof\n"
          ]
        }
      ]
    },
    {
      "cell_type": "code",
      "source": [
        "p.bark()"
      ],
      "metadata": {
        "colab": {
          "base_uri": "https://localhost:8080/"
        },
        "id": "cjeI1TxWz4DZ",
        "outputId": "036860e3-2858-4445-9a33-b0ee3c0884cd"
      },
      "execution_count": null,
      "outputs": [
        {
          "output_type": "stream",
          "name": "stdout",
          "text": [
            "Dog Barks\n"
          ]
        }
      ]
    },
    {
      "cell_type": "code",
      "source": [
        "p.speak()"
      ],
      "metadata": {
        "colab": {
          "base_uri": "https://localhost:8080/"
        },
        "id": "3w6ekp0Tz5pR",
        "outputId": "5d9860df-dfad-4fa5-bdc5-e0cf96cb607f"
      },
      "execution_count": null,
      "outputs": [
        {
          "output_type": "stream",
          "name": "stdout",
          "text": [
            "Animal Speak\n"
          ]
        }
      ]
    },
    {
      "cell_type": "code",
      "source": [
        "class Myclass:\n",
        "  def __init__(self):\n",
        "    self.x='I am Public'\n",
        "\n",
        "  def y(self):\n",
        "    return \"This is a public Method\""
      ],
      "metadata": {
        "id": "pHs5d79c0NYa"
      },
      "execution_count": null,
      "outputs": []
    },
    {
      "cell_type": "code",
      "source": [
        "obj=Myclass()\n",
        "print(obj.x)\n",
        "print(obj.y())"
      ],
      "metadata": {
        "colab": {
          "base_uri": "https://localhost:8080/"
        },
        "id": "FT9qecXf2dyA",
        "outputId": "497fbff3-15be-4a4d-aa39-8dce4a5e8618"
      },
      "execution_count": null,
      "outputs": [
        {
          "output_type": "stream",
          "name": "stdout",
          "text": [
            "I am Public\n",
            "This is a public Method\n"
          ]
        }
      ]
    },
    {
      "cell_type": "code",
      "source": [
        "class Myclass:\n",
        "  def __init__(self):\n",
        "    self._x='I am Public'\n",
        "\n",
        "  def _y(self):\n",
        "    return \"This is a public Method\""
      ],
      "metadata": {
        "id": "uu7nzeMU2_GY"
      },
      "execution_count": null,
      "outputs": []
    },
    {
      "cell_type": "code",
      "source": [
        "obj=Myclass()\n",
        "print(obj._x)\n",
        "print(obj._y())"
      ],
      "metadata": {
        "colab": {
          "base_uri": "https://localhost:8080/"
        },
        "id": "Tn3zQkEn3pSN",
        "outputId": "e02610cc-c83e-4d3e-ec18-174821ce55f9"
      },
      "execution_count": null,
      "outputs": [
        {
          "output_type": "stream",
          "name": "stdout",
          "text": [
            "I am Public\n",
            "This is a public Method\n"
          ]
        }
      ]
    },
    {
      "cell_type": "code",
      "source": [
        "class Myclass:\n",
        "  def __init__(self):\n",
        "    self.__x='I am Private'\n",
        "\n",
        "  def __y(self):\n",
        "    return \"This is a Private Method\""
      ],
      "metadata": {
        "id": "cLkG2Z-O3sS0"
      },
      "execution_count": null,
      "outputs": []
    },
    {
      "cell_type": "code",
      "source": [
        "obj=Myclass()\n",
        "print(obj._Myclass__x)\n",
        "print(obj._Myclass__y())"
      ],
      "metadata": {
        "colab": {
          "base_uri": "https://localhost:8080/"
        },
        "id": "iVEKidvB35WV",
        "outputId": "1255c2ee-15aa-454a-de02-bc87de61c1de"
      },
      "execution_count": null,
      "outputs": [
        {
          "output_type": "stream",
          "name": "stdout",
          "text": [
            "I am Private\n",
            "This is a Private Method\n"
          ]
        }
      ]
    },
    {
      "cell_type": "code",
      "source": [
        "#public  method\n",
        "#protected  _method\n",
        "#private    __method"
      ],
      "metadata": {
        "id": "ARRzeWgx4BEW"
      },
      "execution_count": null,
      "outputs": []
    },
    {
      "cell_type": "code",
      "source": [
        "import re\n",
        "\n",
        "pattern=r'[a-zA-Z0-9._%+-]+@[a-zA-Z0-9.-]+\\.[a-zA-Z]{2,4}'\n",
        "text=\"In a digital age where communication is paramount, diverse email formats cater to various needs. John.Doe@example.com represents the conventional, while EmmaSmith123@gmail.com adds a touch of personalization. Business-minded individuals may opt for contact@companyname.com, emphasizing professionalism. Creative souls might embrace the quirky with ArtisticMind@emailprovider.net. Students often utilize firstname.lastname@studentuniversity.edu for academic correspondence. Social media influencers, like SocialGuru@gmail.com, blend personal and professional spheres. Tech enthusiasts may appreciate CodeMaster@emailhost.org, showcasing their expertise. Health-conscious individuals might prefer WellnessJunkie@emailservice.com. In the vast realm of email, the possibilities are as varied as the individuals who compose them.\"\n",
        "\n",
        "\n",
        "\n",
        "result=re.findall(pattern,text)\n",
        "\n",
        "for i in result:\n",
        "  print(i)\n",
        "\n",
        "\n"
      ],
      "metadata": {
        "colab": {
          "base_uri": "https://localhost:8080/"
        },
        "id": "bMmw1jPG4n4w",
        "outputId": "39c040f0-2feb-490f-f725-7385a2c3d30b"
      },
      "execution_count": null,
      "outputs": [
        {
          "output_type": "stream",
          "name": "stdout",
          "text": [
            "John.Doe@example.com\n",
            "EmmaSmith123@gmail.com\n",
            "contact@companyname.com\n",
            "ArtisticMind@emailprovider.net\n",
            "firstname.lastname@studentuniversity.edu\n",
            "SocialGuru@gmail.com\n",
            "CodeMaster@emailhost.org\n",
            "WellnessJunkie@emailservice.com\n"
          ]
        }
      ]
    },
    {
      "cell_type": "code",
      "source": [
        "import re\n",
        "\n",
        "pattern = r'\\w+ing'\n",
        "text= 'A Walking is a good excercise running'\n",
        "\n",
        "x=re.match(pattern,text)"
      ],
      "metadata": {
        "id": "99fId9ruHvwp"
      },
      "execution_count": null,
      "outputs": []
    },
    {
      "cell_type": "code",
      "source": [
        "x"
      ],
      "metadata": {
        "id": "B88a_8aoJVLG"
      },
      "execution_count": null,
      "outputs": []
    },
    {
      "cell_type": "code",
      "source": [
        "import re\n",
        "\n",
        "pattern = r'\\w+ing'\n",
        "text= 'A is a good excercise running'\n",
        "\n",
        "x=re.search(pattern,text)\n",
        "x"
      ],
      "metadata": {
        "colab": {
          "base_uri": "https://localhost:8080/"
        },
        "id": "jg2woH8mJVxp",
        "outputId": "fd0ec8e2-33ca-43a9-f8cb-b76656ff6bcf"
      },
      "execution_count": null,
      "outputs": [
        {
          "output_type": "execute_result",
          "data": {
            "text/plain": [
              "<re.Match object; span=(22, 29), match='running'>"
            ]
          },
          "metadata": {},
          "execution_count": 167
        }
      ]
    },
    {
      "cell_type": "code",
      "source": [
        "import re\n",
        "\n",
        "pattern = r'\\w+ing'\n",
        "text= 'A walking is a good excercise running'\n",
        "\n",
        "x=re.search(pattern,text)\n",
        "result=re.findall(pattern,text)"
      ],
      "metadata": {
        "id": "zU6CfCjVJ2W2"
      },
      "execution_count": null,
      "outputs": []
    },
    {
      "cell_type": "code",
      "source": [
        "x"
      ],
      "metadata": {
        "colab": {
          "base_uri": "https://localhost:8080/"
        },
        "id": "h4RSlkEAKNBX",
        "outputId": "6dc6e751-5ae6-4eb6-8341-d6d3265e8fdf"
      },
      "execution_count": null,
      "outputs": [
        {
          "output_type": "execute_result",
          "data": {
            "text/plain": [
              "<re.Match object; span=(2, 9), match='walking'>"
            ]
          },
          "metadata": {},
          "execution_count": 172
        }
      ]
    },
    {
      "cell_type": "code",
      "source": [
        "result"
      ],
      "metadata": {
        "colab": {
          "base_uri": "https://localhost:8080/"
        },
        "id": "viHW9efWKNm2",
        "outputId": "e67eb620-7f9c-4b44-f2cc-54d46df99cd6"
      },
      "execution_count": null,
      "outputs": [
        {
          "output_type": "execute_result",
          "data": {
            "text/plain": [
              "['walking', 'running']"
            ]
          },
          "metadata": {},
          "execution_count": 173
        }
      ]
    },
    {
      "cell_type": "code",
      "source": [
        "pip install pymysql"
      ],
      "metadata": {
        "colab": {
          "base_uri": "https://localhost:8080/"
        },
        "id": "2DS6ccEuKPKe",
        "outputId": "a39b457a-e9c6-4736-e203-e298a03de6a9"
      },
      "execution_count": null,
      "outputs": [
        {
          "output_type": "stream",
          "name": "stdout",
          "text": [
            "Collecting pymysql\n",
            "  Downloading PyMySQL-1.1.0-py3-none-any.whl (44 kB)\n",
            "\u001b[?25l     \u001b[90m━━━━━━━━━━━━━━━━━━━━━━━━━━━━━━━━━━━━━━━━\u001b[0m \u001b[32m0.0/44.8 kB\u001b[0m \u001b[31m?\u001b[0m eta \u001b[36m-:--:--\u001b[0m\r\u001b[2K     \u001b[90m━━━━━━━━━━━━━━━━━━━━━━━━━━━━━━━━━━━━━━━━\u001b[0m \u001b[32m44.8/44.8 kB\u001b[0m \u001b[31m1.8 MB/s\u001b[0m eta \u001b[36m0:00:00\u001b[0m\n",
            "\u001b[?25hInstalling collected packages: pymysql\n",
            "Successfully installed pymysql-1.1.0\n"
          ]
        }
      ]
    },
    {
      "cell_type": "code",
      "source": [
        "import pymysql"
      ],
      "metadata": {
        "id": "RI2etArGK5QI"
      },
      "execution_count": null,
      "outputs": []
    },
    {
      "cell_type": "code",
      "source": [
        "connection=pymysql.connect(\n",
        "    host='your_host',\n",
        "    user='your_username',\n",
        "    password='your_password',\n",
        "    database='your_database',\n",
        "    port=3306\n",
        ")"
      ],
      "metadata": {
        "colab": {
          "base_uri": "https://localhost:8080/",
          "height": 455
        },
        "id": "vsQollxNLHgN",
        "outputId": "41f9c455-733b-4107-d365-7a4a9b32781e"
      },
      "execution_count": null,
      "outputs": [
        {
          "output_type": "error",
          "ename": "OperationalError",
          "evalue": "(2003, \"Can't connect to MySQL server on 'your_host' ([Errno -2] Name or service not known)\")",
          "traceback": [
            "\u001b[0;31m---------------------------------------------------------------------------\u001b[0m",
            "\u001b[0;31mgaierror\u001b[0m                                  Traceback (most recent call last)",
            "\u001b[0;32m/usr/local/lib/python3.10/dist-packages/pymysql/connections.py\u001b[0m in \u001b[0;36mconnect\u001b[0;34m(self, sock)\u001b[0m\n\u001b[1;32m    643\u001b[0m                         \u001b[0;32mtry\u001b[0m\u001b[0;34m:\u001b[0m\u001b[0;34m\u001b[0m\u001b[0;34m\u001b[0m\u001b[0m\n\u001b[0;32m--> 644\u001b[0;31m                             sock = socket.create_connection(\n\u001b[0m\u001b[1;32m    645\u001b[0m                                 \u001b[0;34m(\u001b[0m\u001b[0mself\u001b[0m\u001b[0;34m.\u001b[0m\u001b[0mhost\u001b[0m\u001b[0;34m,\u001b[0m \u001b[0mself\u001b[0m\u001b[0;34m.\u001b[0m\u001b[0mport\u001b[0m\u001b[0;34m)\u001b[0m\u001b[0;34m,\u001b[0m \u001b[0mself\u001b[0m\u001b[0;34m.\u001b[0m\u001b[0mconnect_timeout\u001b[0m\u001b[0;34m,\u001b[0m \u001b[0;34m**\u001b[0m\u001b[0mkwargs\u001b[0m\u001b[0;34m\u001b[0m\u001b[0;34m\u001b[0m\u001b[0m\n",
            "\u001b[0;32m/usr/lib/python3.10/socket.py\u001b[0m in \u001b[0;36mcreate_connection\u001b[0;34m(address, timeout, source_address)\u001b[0m\n\u001b[1;32m    823\u001b[0m     \u001b[0merr\u001b[0m \u001b[0;34m=\u001b[0m \u001b[0;32mNone\u001b[0m\u001b[0;34m\u001b[0m\u001b[0;34m\u001b[0m\u001b[0m\n\u001b[0;32m--> 824\u001b[0;31m     \u001b[0;32mfor\u001b[0m \u001b[0mres\u001b[0m \u001b[0;32min\u001b[0m \u001b[0mgetaddrinfo\u001b[0m\u001b[0;34m(\u001b[0m\u001b[0mhost\u001b[0m\u001b[0;34m,\u001b[0m \u001b[0mport\u001b[0m\u001b[0;34m,\u001b[0m \u001b[0;36m0\u001b[0m\u001b[0;34m,\u001b[0m \u001b[0mSOCK_STREAM\u001b[0m\u001b[0;34m)\u001b[0m\u001b[0;34m:\u001b[0m\u001b[0;34m\u001b[0m\u001b[0;34m\u001b[0m\u001b[0m\n\u001b[0m\u001b[1;32m    825\u001b[0m         \u001b[0maf\u001b[0m\u001b[0;34m,\u001b[0m \u001b[0msocktype\u001b[0m\u001b[0;34m,\u001b[0m \u001b[0mproto\u001b[0m\u001b[0;34m,\u001b[0m \u001b[0mcanonname\u001b[0m\u001b[0;34m,\u001b[0m \u001b[0msa\u001b[0m \u001b[0;34m=\u001b[0m \u001b[0mres\u001b[0m\u001b[0;34m\u001b[0m\u001b[0;34m\u001b[0m\u001b[0m\n",
            "\u001b[0;32m/usr/lib/python3.10/socket.py\u001b[0m in \u001b[0;36mgetaddrinfo\u001b[0;34m(host, port, family, type, proto, flags)\u001b[0m\n\u001b[1;32m    954\u001b[0m     \u001b[0maddrlist\u001b[0m \u001b[0;34m=\u001b[0m \u001b[0;34m[\u001b[0m\u001b[0;34m]\u001b[0m\u001b[0;34m\u001b[0m\u001b[0;34m\u001b[0m\u001b[0m\n\u001b[0;32m--> 955\u001b[0;31m     \u001b[0;32mfor\u001b[0m \u001b[0mres\u001b[0m \u001b[0;32min\u001b[0m \u001b[0m_socket\u001b[0m\u001b[0;34m.\u001b[0m\u001b[0mgetaddrinfo\u001b[0m\u001b[0;34m(\u001b[0m\u001b[0mhost\u001b[0m\u001b[0;34m,\u001b[0m \u001b[0mport\u001b[0m\u001b[0;34m,\u001b[0m \u001b[0mfamily\u001b[0m\u001b[0;34m,\u001b[0m \u001b[0mtype\u001b[0m\u001b[0;34m,\u001b[0m \u001b[0mproto\u001b[0m\u001b[0;34m,\u001b[0m \u001b[0mflags\u001b[0m\u001b[0;34m)\u001b[0m\u001b[0;34m:\u001b[0m\u001b[0;34m\u001b[0m\u001b[0;34m\u001b[0m\u001b[0m\n\u001b[0m\u001b[1;32m    956\u001b[0m         \u001b[0maf\u001b[0m\u001b[0;34m,\u001b[0m \u001b[0msocktype\u001b[0m\u001b[0;34m,\u001b[0m \u001b[0mproto\u001b[0m\u001b[0;34m,\u001b[0m \u001b[0mcanonname\u001b[0m\u001b[0;34m,\u001b[0m \u001b[0msa\u001b[0m \u001b[0;34m=\u001b[0m \u001b[0mres\u001b[0m\u001b[0;34m\u001b[0m\u001b[0;34m\u001b[0m\u001b[0m\n",
            "\u001b[0;31mgaierror\u001b[0m: [Errno -2] Name or service not known",
            "\nDuring handling of the above exception, another exception occurred:\n",
            "\u001b[0;31mOperationalError\u001b[0m                          Traceback (most recent call last)",
            "\u001b[0;32m<ipython-input-177-8c22e31f65d9>\u001b[0m in \u001b[0;36m<cell line: 1>\u001b[0;34m()\u001b[0m\n\u001b[0;32m----> 1\u001b[0;31m connection=pymysql.connect(\n\u001b[0m\u001b[1;32m      2\u001b[0m     \u001b[0mhost\u001b[0m\u001b[0;34m=\u001b[0m\u001b[0;34m'your_host'\u001b[0m\u001b[0;34m,\u001b[0m\u001b[0;34m\u001b[0m\u001b[0;34m\u001b[0m\u001b[0m\n\u001b[1;32m      3\u001b[0m     \u001b[0muser\u001b[0m\u001b[0;34m=\u001b[0m\u001b[0;34m'your_username'\u001b[0m\u001b[0;34m,\u001b[0m\u001b[0;34m\u001b[0m\u001b[0;34m\u001b[0m\u001b[0m\n\u001b[1;32m      4\u001b[0m     \u001b[0mpassword\u001b[0m\u001b[0;34m=\u001b[0m\u001b[0;34m'your_password'\u001b[0m\u001b[0;34m,\u001b[0m\u001b[0;34m\u001b[0m\u001b[0;34m\u001b[0m\u001b[0m\n\u001b[1;32m      5\u001b[0m     \u001b[0mdatabase\u001b[0m\u001b[0;34m=\u001b[0m\u001b[0;34m'your_database'\u001b[0m\u001b[0;34m,\u001b[0m\u001b[0;34m\u001b[0m\u001b[0;34m\u001b[0m\u001b[0m\n",
            "\u001b[0;32m/usr/local/lib/python3.10/dist-packages/pymysql/connections.py\u001b[0m in \u001b[0;36m__init__\u001b[0;34m(self, user, password, host, database, unix_socket, port, charset, collation, sql_mode, read_default_file, conv, use_unicode, client_flag, cursorclass, init_command, connect_timeout, read_default_group, autocommit, local_infile, max_allowed_packet, defer_connect, auth_plugin_map, read_timeout, write_timeout, bind_address, binary_prefix, program_name, server_public_key, ssl, ssl_ca, ssl_cert, ssl_disabled, ssl_key, ssl_verify_cert, ssl_verify_identity, compress, named_pipe, passwd, db)\u001b[0m\n\u001b[1;32m    356\u001b[0m             \u001b[0mself\u001b[0m\u001b[0;34m.\u001b[0m\u001b[0m_sock\u001b[0m \u001b[0;34m=\u001b[0m \u001b[0;32mNone\u001b[0m\u001b[0;34m\u001b[0m\u001b[0;34m\u001b[0m\u001b[0m\n\u001b[1;32m    357\u001b[0m         \u001b[0;32melse\u001b[0m\u001b[0;34m:\u001b[0m\u001b[0;34m\u001b[0m\u001b[0;34m\u001b[0m\u001b[0m\n\u001b[0;32m--> 358\u001b[0;31m             \u001b[0mself\u001b[0m\u001b[0;34m.\u001b[0m\u001b[0mconnect\u001b[0m\u001b[0;34m(\u001b[0m\u001b[0;34m)\u001b[0m\u001b[0;34m\u001b[0m\u001b[0;34m\u001b[0m\u001b[0m\n\u001b[0m\u001b[1;32m    359\u001b[0m \u001b[0;34m\u001b[0m\u001b[0m\n\u001b[1;32m    360\u001b[0m     \u001b[0;32mdef\u001b[0m \u001b[0m__enter__\u001b[0m\u001b[0;34m(\u001b[0m\u001b[0mself\u001b[0m\u001b[0;34m)\u001b[0m\u001b[0;34m:\u001b[0m\u001b[0;34m\u001b[0m\u001b[0;34m\u001b[0m\u001b[0m\n",
            "\u001b[0;32m/usr/local/lib/python3.10/dist-packages/pymysql/connections.py\u001b[0m in \u001b[0;36mconnect\u001b[0;34m(self, sock)\u001b[0m\n\u001b[1;32m    709\u001b[0m                 \u001b[0;32mif\u001b[0m \u001b[0mDEBUG\u001b[0m\u001b[0;34m:\u001b[0m\u001b[0;34m\u001b[0m\u001b[0;34m\u001b[0m\u001b[0m\n\u001b[1;32m    710\u001b[0m                     \u001b[0mprint\u001b[0m\u001b[0;34m(\u001b[0m\u001b[0mexc\u001b[0m\u001b[0;34m.\u001b[0m\u001b[0mtraceback\u001b[0m\u001b[0;34m)\u001b[0m\u001b[0;34m\u001b[0m\u001b[0;34m\u001b[0m\u001b[0m\n\u001b[0;32m--> 711\u001b[0;31m                 \u001b[0;32mraise\u001b[0m \u001b[0mexc\u001b[0m\u001b[0;34m\u001b[0m\u001b[0;34m\u001b[0m\u001b[0m\n\u001b[0m\u001b[1;32m    712\u001b[0m \u001b[0;34m\u001b[0m\u001b[0m\n\u001b[1;32m    713\u001b[0m             \u001b[0;31m# If e is neither DatabaseError or IOError, It's a bug.\u001b[0m\u001b[0;34m\u001b[0m\u001b[0;34m\u001b[0m\u001b[0m\n",
            "\u001b[0;31mOperationalError\u001b[0m: (2003, \"Can't connect to MySQL server on 'your_host' ([Errno -2] Name or service not known)\")"
          ]
        }
      ]
    },
    {
      "cell_type": "code",
      "source": [],
      "metadata": {
        "id": "Q_xloto7LbOX"
      },
      "execution_count": null,
      "outputs": []
    }
  ]
}